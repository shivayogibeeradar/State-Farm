{
 "cells": [
  {
   "cell_type": "code",
   "execution_count": 16,
   "metadata": {},
   "outputs": [],
   "source": [
    "\n",
    "#General python imports\n",
    "import nbimporter\n",
    "import time\n",
    "import warnings\n",
    "warnings.filterwarnings('ignore')\n",
    "from tqdm import tqdm\n",
    "import numpy as np\n",
    "\n",
    "####Importing  Data cleaning,scoring and confusion matrix from functions.ipynb(user created)\n",
    "from functions import data_clean\n",
    "from functions import training_predict\n",
    "from functions import confusion_matrix_plot\n",
    "\n",
    "\n",
    "\n",
    "import pandas as pd\n",
    "import matplotlib.pyplot as plt\n",
    "\n",
    "\n",
    "#### Importing pipeline and preprocessors\n",
    "\n",
    "from imblearn.pipeline import Pipeline, make_pipeline\n",
    "from sklearn.preprocessing import OneHotEncoder,MinMaxScaler,StandardScaler,RobustScaler,QuantileTransformer\n",
    "from sklearn.compose import ColumnTransformer\n",
    "from sklearn.impute import SimpleImputer\n",
    "\n",
    "\n",
    "####Importing model selection and validation metrics\n",
    "from sklearn.model_selection import StratifiedKFold\n",
    "from sklearn.model_selection import train_test_split\n",
    "from sklearn.model_selection import cross_val_score\n",
    "from sklearn.metrics import precision_score, f1_score, recall_score, accuracy_score, average_precision_score ,auc,roc_auc_score\n",
    "\n",
    "\n",
    "#### Importing models\n",
    "from sklearn.linear_model import LogisticRegression\n",
    "from sklearn.model_selection import train_test_split\n",
    "from sklearn.model_selection import cross_val_score\n",
    "from sklearn.tree import DecisionTreeClassifier\n",
    "from sklearn.ensemble import RandomForestClassifier\n",
    "from sklearn.ensemble import AdaBoostClassifier\n",
    "from sklearn.ensemble import GradientBoostingClassifier\n",
    "from xgboost import XGBClassifier\n",
    "from sklearn.ensemble import VotingClassifier , StackingClassifier"
   ]
  },
  {
   "cell_type": "code",
   "execution_count": 17,
   "metadata": {},
   "outputs": [],
   "source": [
    "#### Reading dataset\n",
    "data_train=pd.read_csv(\"exercise_01_train.csv\")\n",
    "#### Cleaning data using custom function\n",
    "data_train=data_clean(data_train)"
   ]
  },
  {
   "cell_type": "code",
   "execution_count": 18,
   "metadata": {},
   "outputs": [],
   "source": [
    "\n",
    "\n",
    "##target variable\n",
    "labels=data_train[\"y\"]\n",
    "#### Rest of features\n",
    "all_data=data_train.drop(columns=[\"y\"])\n",
    "\n",
    "##Numeric features\n",
    "numeric_features =  all_data.select_dtypes(include=[\"float\",\"int\"]).columns\n",
    "### Categorical features\n",
    "categorical_features=all_data.select_dtypes(exclude=[\"float\",\"int\"]).columns\n",
    "\n",
    "#### Selecting Median imputer as startegy for imputing missing values and Robust scaler as strategy for \n",
    "#### standardizing data.Since the missing values in EDA\n",
    "####Robust scaler was slightly better at model performance than standard scaler \n",
    "####because of its robustness to outliers\n",
    "\n",
    "\n",
    "numeric_transformer = Pipeline(steps=[\n",
    "    ('imputer', SimpleImputer(strategy='median')),\n",
    "    ('scaler', RobustScaler())])\n",
    "\n",
    "#### Selecting simple imputer as startegy for imputing missing values to \"missing\" category \n",
    "#### Onehot encoding  as next step in pipeline for categorical variables\n",
    "\n",
    "\n",
    "categorical_transformer = Pipeline(steps=[\n",
    "    ('imputer', SimpleImputer(strategy='constant', fill_value='missing')),\n",
    "    ('onehot', OneHotEncoder(handle_unknown='ignore'))])\n",
    "\n",
    "\n",
    "\n",
    "\n",
    "##### Applying preprocessing steps as column transformers\n",
    "preprocessor = ColumnTransformer(\n",
    "    transformers=[\n",
    "        ('num', numeric_transformer, numeric_features),\n",
    "        ('cat', categorical_transformer, categorical_features)],remainder=\"passthrough\")\n",
    "\n",
    "\n",
    "\n",
    "\n",
    "\n",
    "\n",
    "\n"
   ]
  },
  {
   "cell_type": "code",
   "execution_count": 13,
   "metadata": {},
   "outputs": [
    {
     "data": {
      "text/plain": [
       "(40000, 130)"
      ]
     },
     "execution_count": 13,
     "metadata": {},
     "output_type": "execute_result"
    }
   ],
   "source": [
    "preprocessor.fit_transform(all_data).shape"
   ]
  },
  {
   "cell_type": "code",
   "execution_count": null,
   "metadata": {},
   "outputs": [],
   "source": [
    "### Finding the imbalance in the dataset (instance percentage of minority class amongst all classes)\n",
    "\n",
    "print ('The Imbalance is: {}'.format(np.unique(y_train, return_counts=True)[1][1] / \n",
    "                                    (float(np.unique(y_train, return_counts=True)[1][0]) + \n",
    "                                    np.unique(y_train, return_counts=True)[1][1])*100))"
   ]
  },
  {
   "cell_type": "code",
   "execution_count": null,
   "metadata": {},
   "outputs": [],
   "source": [
    "###Adding several ensemble models and logistic regressions for modelling\n",
    "### Class weights are set to balanced to handle imbalance\n",
    "### scale_pos_weight = 1/(imabalance in the dataset) ~ 3.97 which sets as \n",
    "### balancing factor in xgboost for both classes\n",
    "\n",
    "classifiers = [\n",
    "    (LogisticRegression(random_state=42,class_weight='balanced'),\"logistic regression \"),\n",
    "    \n",
    "\n",
    "    (RandomForestClassifier(random_state=42,class_weight='balanced'),\"Random Forest\"),\n",
    "    (AdaBoostClassifier(random_state=42),\"Ada-Boost\"),\n",
    "    (GradientBoostingClassifier(random_state=42),\"GBM\"),\n",
    "    (XGBClassifier(scale_pos_weight=3.97),\"xgboost\")\n",
    "    \n",
    "]"
   ]
  },
  {
   "cell_type": "code",
   "execution_count": 22,
   "metadata": {},
   "outputs": [
    {
     "name": "stderr",
     "output_type": "stream",
     "text": [
      " 20%|██        | 1/5 [00:06<00:26,  6.60s/it]"
     ]
    },
    {
     "name": "stdout",
     "output_type": "stream",
     "text": [
      "Model AUC:train-cv logistic regression  0.91 (+/- 0.01)\n",
      "Test Resuts\n",
      "F1:  0.6658329164582292\n",
      "recall:  0.8272218769422002\n",
      "precision:  0.5571368773545416\n",
      "auc:  0.9117617913397675\n",
      "AP-SCORE:  0.7831521634683182\n",
      "Model AUC:train-cv Random Forest 0.98 (+/- 0.00)\n",
      "Test Resuts\n",
      "F1:  0.46549262256068547\n",
      "recall:  0.30391547545059044\n",
      "precision:  0.9939024390243902\n",
      "auc:  0.9779782282009962\n"
     ]
    },
    {
     "name": "stderr",
     "output_type": "stream",
     "text": [
      "\r",
      " 40%|████      | 2/5 [02:12<02:06, 42.32s/it]"
     ]
    },
    {
     "name": "stdout",
     "output_type": "stream",
     "text": [
      "AP-SCORE:  0.9457150880941609\n",
      "Model AUC:train-cv Ada-Boost 0.87 (+/- 0.01)\n",
      "Test Resuts\n",
      "F1:  0.5849945632475535\n",
      "recall:  0.5015537600994406\n",
      "precision:  0.7017391304347826\n",
      "auc:  0.8729530408040597\n"
     ]
    },
    {
     "name": "stderr",
     "output_type": "stream",
     "text": [
      "\r",
      " 60%|██████    | 3/5 [04:17<02:14, 67.28s/it]"
     ]
    },
    {
     "name": "stdout",
     "output_type": "stream",
     "text": [
      "AP-SCORE:  0.6808702549418941\n"
     ]
    },
    {
     "name": "stderr",
     "output_type": "stream",
     "text": [
      "\r",
      " 80%|████████  | 4/5 [13:43<03:36, 216.70s/it]"
     ]
    },
    {
     "name": "stdout",
     "output_type": "stream",
     "text": [
      "Model AUC:train-cv GBM 0.95 (+/- 0.01)\n",
      "Test Resuts\n",
      "F1:  0.720616570327553\n",
      "recall:  0.5811062771908018\n",
      "precision:  0.9482758620689655\n",
      "auc:  0.9554644850458308\n",
      "AP-SCORE:  0.8921405064383503\n"
     ]
    },
    {
     "name": "stderr",
     "output_type": "stream",
     "text": [
      "100%|██████████| 5/5 [18:20<00:00, 220.16s/it]"
     ]
    },
    {
     "name": "stdout",
     "output_type": "stream",
     "text": [
      "Model AUC:train-cv xgboost 0.99 (+/- 0.00)\n",
      "Test Resuts\n",
      "F1:  0.9352699715819387\n",
      "recall:  0.9204474829086389\n",
      "precision:  0.9505776636713735\n",
      "auc:  0.9838909770469446\n",
      "AP-SCORE:  0.9736467449997932\n"
     ]
    },
    {
     "name": "stderr",
     "output_type": "stream",
     "text": [
      "\n"
     ]
    }
   ],
   "source": [
    "#### Creating train-test-split of 80:20 ratio to validate our models\n",
    "\n",
    "X_train, X_test, y_train, y_test = train_test_split(all_data, labels, test_size=0.2,random_state=42,stratify=labels,shuffle=True)\n",
    "\n",
    "\n",
    "\n",
    "\n",
    "####Created startified K fold to ensure same ratio of labels in each fold\n",
    "cv=StratifiedKFold(n_splits=5, random_state=1,shuffle=True)\n",
    "\n",
    "##Cross validating each classifier on training dataset by scoring on AUC and reporting several metrics\n",
    "### Such as AUC,Average Precison Score,F1 Score,Precision ,Recall on test data split to objectively evaluate classifier\n",
    "for r,v in tqdm(classifiers) :\n",
    "    \n",
    "    clf=make_pipeline(preprocessor,r)\n",
    "    clf.fit(X_train, y_train)\n",
    "    scores = cross_val_score(clf,X_train, y_train, cv=cv,scoring=\"roc_auc\")\n",
    "    Y_pred=clf.predict(X_test)\n",
    "    print(\"Model AUC:train-cv\"+ \" \" + str(v)+\" \"+\"%0.2f (+/- %0.2f)\" % (scores.mean(), scores.std() * 2))\n",
    "    print(\"Test Resuts\")\n",
    "    print(\"F1: \",f1_score(y_test , Y_pred))\n",
    "    print(\"recall: \",recall_score(y_test , Y_pred))\n",
    "    print(\"precision: \",precision_score(y_test , Y_pred))\n",
    "    print(\"auc: \",roc_auc_score(y_test ,clf.predict_proba(X_test)[:,1])  )\n",
    "    print(\"AP-SCORE: \",average_precision_score(y_test ,clf.predict_proba(X_test)[:,1])  )\n",
    "    "
   ]
  },
  {
   "cell_type": "code",
   "execution_count": 23,
   "metadata": {},
   "outputs": [
    {
     "name": "stdout",
     "output_type": "stream",
     "text": [
      "Test results for Xgboost Model:\n",
      "{'auc': 0.9838909770469446, 'AP-SCORE': 0.9736467449997932, 'Recall_test': 0.9204474829086389, 'Precision_test': 0.9505776636713735, 'F1_Score_test': 0.9352699715819387}\n",
      "Confusion matrix, without normalization\n",
      "Normalized confusion matrix\n"
     ]
    },
    {
     "data": {
      "image/png": "[encoded data removed]",
      "text/plain": [
       "<Figure size 432x288 with 2 Axes>"
      ]
     },
     "metadata": {
      "needs_background": "light"
     },
     "output_type": "display_data"
    },
    {
     "data": {
      "image/png": "[encoded data removed]",
      "text/plain": [
       "<Figure size 432x288 with 2 Axes>"
      ]
     },
     "metadata": {
      "needs_background": "light"
     },
     "output_type": "display_data"
    }
   ],
   "source": [
    "#### From the above results we conclude that xgboost is the best perofrming model with a great balance on all scores\n",
    "#### Indicating that it predicts both majority and minority class well.This can be further \n",
    "#### verfified by confusion matrix below\n",
    "\n",
    "\n",
    "\n",
    "### Confusion matrix of  Xgb baseline model indicates a good predicting performance on both classes\n",
    "### as well as a high auc score\n",
    "model_xgb=XGBClassifier(scale_pos_weight=3.97)\n",
    "pipe_sgb=make_pipeline(preprocessor,model_xgb)  \n",
    "pipe_sgb.fit(X_train,y_train)\n",
    "print(\"Test results for Xgboost Model:\")\n",
    "print(training_predict(pipe_sgb,X_train,y_train,X_test,y_test))\n",
    "confusion_matrix_plot(pipe_sgb,X_test,y_test)   "
   ]
  },
  {
   "cell_type": "code",
   "execution_count": 24,
   "metadata": {},
   "outputs": [],
   "source": [
    "data_test=pd.read_csv(\"exercise_01_test.csv\")\n",
    "data_test=data_clean(data_test)"
   ]
  },
  {
   "cell_type": "code",
   "execution_count": 30,
   "metadata": {},
   "outputs": [],
   "source": [
    "pipe_sgb=make_pipeline(preprocessor,model_xgb)  "
   ]
  },
  {
   "cell_type": "code",
   "execution_count": 31,
   "metadata": {},
   "outputs": [
    {
     "data": {
      "text/plain": [
       "Pipeline(memory=None,\n",
       "         steps=[('columntransformer',\n",
       "                 ColumnTransformer(n_jobs=None, remainder='passthrough',\n",
       "                                   sparse_threshold=0.3,\n",
       "                                   transformer_weights=None,\n",
       "                                   transformers=[('num',\n",
       "                                                  Pipeline(memory=None,\n",
       "                                                           steps=[('imputer',\n",
       "                                                                   SimpleImputer(add_indicator=False,\n",
       "                                                                                 copy=True,\n",
       "                                                                                 fill_value=None,\n",
       "                                                                                 missing_values=nan,\n",
       "                                                                                 strategy='median',\n",
       "                                                                                 verbose=0)),\n",
       "                                                                  ('scaler',\n",
       "                                                                   RobustScaler(copy=True...\n",
       "                               interaction_constraints=None,\n",
       "                               learning_rate=0.300000012, max_delta_step=0,\n",
       "                               max_depth=6, min_child_weight=1, missing=nan,\n",
       "                               monotone_constraints=None, n_estimators=100,\n",
       "                               n_jobs=0, num_parallel_tree=1,\n",
       "                               objective='binary:logistic', random_state=0,\n",
       "                               reg_alpha=0, reg_lambda=1, scale_pos_weight=3.97,\n",
       "                               subsample=1, tree_method=None,\n",
       "                               validate_parameters=False, verbosity=None))],\n",
       "         verbose=False)"
      ]
     },
     "execution_count": 31,
     "metadata": {},
     "output_type": "execute_result"
    }
   ],
   "source": [
    "pipe_sgb.fit(all_data,labels)"
   ]
  },
  {
   "cell_type": "code",
   "execution_count": 32,
   "metadata": {},
   "outputs": [],
   "source": [
    "k=pipe_sgb.predict(data_test)"
   ]
  },
  {
   "cell_type": "code",
   "execution_count": 29,
   "metadata": {},
   "outputs": [
    {
     "data": {
      "text/plain": [
       "(10000, 100)"
      ]
     },
     "execution_count": 29,
     "metadata": {},
     "output_type": "execute_result"
    }
   ],
   "source": [
    "data_test.shape"
   ]
  },
  {
   "cell_type": "code",
   "execution_count": 34,
   "metadata": {},
   "outputs": [
    {
     "data": {
      "text/plain": [
       "2067"
      ]
     },
     "execution_count": 34,
     "metadata": {},
     "output_type": "execute_result"
    }
   ],
   "source": [
    "len(k[np.where(k==1)])"
   ]
  },
  {
   "cell_type": "code",
   "execution_count": 23,
   "metadata": {},
   "outputs": [
    {
     "name": "stdout",
     "output_type": "stream",
     "text": [
      "Test results for Random Forest Model:\n",
      "{'auc': 0.9758320894662408, 'AP-SCORE': 0.9401379957145614, 'Recall_test': 0.2958359229334991, 'Precision_test': 0.9896049896049897, 'F1_Score_test': 0.45550239234449763}\n",
      "Confusion matrix, without normalization\n",
      "Normalized confusion matrix\n"
     ]
    },
    {
     "data": {
      "image/png": "[encoded data removed]",
      "text/plain": [
       "<Figure size 432x288 with 2 Axes>"
      ]
     },
     "metadata": {
      "needs_background": "light"
     },
     "output_type": "display_data"
    },
    {
     "data": {
      "image/png": "[encoded data removed]",
      "text/plain": [
       "<Figure size 432x288 with 2 Axes>"
      ]
     },
     "metadata": {
      "needs_background": "light"
     },
     "output_type": "display_data"
    }
   ],
   "source": [
    "#### An example of RF having high AUC but a bad classifier as it only identifies 30% of minority instances\n",
    "\n",
    "\n",
    "model_rf=RandomForestClassifier(class_weight=\"balanced\")\n",
    "pipe_rf=make_pipeline(preprocessor,model_rf)  \n",
    "pipe_rf.fit(X_train,y_train)\n",
    "print(\"Test results for Random Forest Model:\")\n",
    "print(training_predict(pipe_rf,X_train,y_train,X_test,y_test))\n",
    "confusion_matrix_plot(pipe_rf,X_test,y_test)   "
   ]
  },
  {
   "cell_type": "code",
   "execution_count": 24,
   "metadata": {},
   "outputs": [
    {
     "name": "stdout",
     "output_type": "stream",
     "text": [
      "Test results for Voting Classifier Model:\n",
      "{'auc': 0.9838909770469446, 'AP-SCORE': 0.9736467449997932, 'Recall_test': 0.9204474829086389, 'Precision_test': 0.9505776636713735, 'F1_Score_test': 0.9352699715819387}\n",
      "Confusion matrix, without normalization\n",
      "Normalized confusion matrix\n"
     ]
    },
    {
     "data": {
      "image/png": "[encoded data removed]",
      "text/plain": [
       "<Figure size 432x288 with 2 Axes>"
      ]
     },
     "metadata": {
      "needs_background": "light"
     },
     "output_type": "display_data"
    },
    {
     "data": {
      "image/png": "[encoded data removed]",
      "text/plain": [
       "<Figure size 432x288 with 2 Axes>"
      ]
     },
     "metadata": {
      "needs_background": "light"
     },
     "output_type": "display_data"
    }
   ],
   "source": [
    "#### After xgboost it was difficult to find a model with a great balanced performance on all scores indicating either\n",
    "#### it was perdicting majority class very well (Ada-boost,GBM,Random forest) or minority class \n",
    "###very well( Logistic regression) but not both (like xgboost)\n",
    "\n",
    "### Hence we decided to create ensemble models by voting and stacking.\n",
    "### This was a great idea as Advantage of logistic regression in predicting minority class and ensemble models(gbm,rf) \n",
    "## in predicting majority class can be combined to deliver a better classifier then its stand alone performance \n",
    "\n",
    "\n",
    "\n",
    "\n",
    "\n",
    "\n",
    "\n",
    "#### Voting Classifier of Logistic regression ,Random Forest and GBM gives higher performance on each of the metrics\n",
    "### indicating they were covering each other's flaws much better\n",
    "\n",
    "\n",
    "### Creating estimators for voting classifier\n",
    "estimators=classifiers = [(\"logistic regression \",\n",
    "    LogisticRegression(random_state=42,class_weight='balanced')),\n",
    "                          \n",
    "(\"Random Forest\" ,  RandomForestClassifier(random_state=42,class_weight='balanced')),\n",
    "    (\"GBM\" ,  GradientBoostingClassifier(random_state=42))]\n",
    "\n",
    "##Creating Voting classifier model with soft voting so that probabilities c\n",
    "## an output which is needed for AUC calculation\n",
    "model_voting=VotingClassifier(estimators=estimators, voting='soft')\n",
    "\n",
    "## Pipline for voting classifier\n",
    "pipe_voting = make_pipeline(preprocessor,model_voting)\n",
    "\n",
    "pipe_voting.fit(X_train,y_train)\n",
    "print(\"Test results for Voting Classifier Model:\")\n",
    "print(training_predict(clf,X_train,y_train,X_test,y_test))\n",
    "\n",
    "\n",
    "## Confusion Matrix for voting classifier\n",
    "confusion_matrix_plot(pipe_voting,X_test,y_test)  "
   ]
  },
  {
   "cell_type": "code",
   "execution_count": 25,
   "metadata": {},
   "outputs": [
    {
     "name": "stdout",
     "output_type": "stream",
     "text": [
      "Test results for Stacking Classifier Model:\n",
      "{'auc': 0.9779757484086299, 'AP-SCORE': 0.9495341664509208, 'Recall_test': 0.9316345556246115, 'Precision_test': 0.8133478024959305, 'F1_Score_test': 0.8684820393974507}\n",
      "Confusion matrix, without normalization\n",
      "Normalized confusion matrix\n"
     ]
    },
    {
     "data": {
      "image/png": "[encoded data removed]",
      "text/plain": [
       "<Figure size 432x288 with 2 Axes>"
      ]
     },
     "metadata": {
      "needs_background": "light"
     },
     "output_type": "display_data"
    },
    {
     "data": {
      "image/png": "[encoded data removed]",
      "text/plain": [
       "<Figure size 432x288 with 2 Axes>"
      ]
     },
     "metadata": {
      "needs_background": "light"
     },
     "output_type": "display_data"
    }
   ],
   "source": [
    "### Stacked ensemble with logistic regression as main estimator and gbm and random forest as seeders performed better\n",
    "### than voting classifier and is the second best model we obtain\n",
    "\n",
    "\n",
    "\n",
    "\n",
    "#estimators for stacking classifier\n",
    "estimator = [\n",
    "    ('rf', RandomForestClassifier(class_weight='balanced', random_state=42)),\n",
    "    (\"GBM\" ,  GradientBoostingClassifier(random_state=42))\n",
    "    ]\n",
    "\n",
    "\n",
    "\n",
    "\n",
    "### Defining stacking classifier with final estimator as Logistic Regression and GBM and Random Forest as seeders\n",
    "model_stack=StackingClassifier(estimators=estimator, final_estimator= LogisticRegression(random_state=42,class_weight='balanced'))\n",
    "\n",
    "pipe_stack = make_pipeline(preprocessor,model_stack)\n",
    "pipe_stack.fit(X_train,y_train)\n",
    "print(\"Test results for Stacking Classifier Model:\")\n",
    "print(training_predict(pipe_stack,X_train,y_train,X_test,y_test))\n",
    "\n",
    "confusion_matrix_plot(pipe_voting,X_test,y_test)  "
   ]
  },
  {
   "cell_type": "code",
   "execution_count": 35,
   "metadata": {},
   "outputs": [
    {
     "data": {
      "text/plain": [
       "Pipeline(memory=None,\n",
       "         steps=[('columntransformer',\n",
       "                 ColumnTransformer(n_jobs=None, remainder='passthrough',\n",
       "                                   sparse_threshold=0.3,\n",
       "                                   transformer_weights=None,\n",
       "                                   transformers=[('num',\n",
       "                                                  Pipeline(memory=None,\n",
       "                                                           steps=[('imputer',\n",
       "                                                                   SimpleImputer(add_indicator=False,\n",
       "                                                                                 copy=True,\n",
       "                                                                                 fill_value=None,\n",
       "                                                                                 missing_values=nan,\n",
       "                                                                                 strategy='median',\n",
       "                                                                                 verbose=0)),\n",
       "                                                                  ('scaler',\n",
       "                                                                   RobustScaler(copy=True...\n",
       "                                                                            warm_start=False))],\n",
       "                                    final_estimator=LogisticRegression(C=1.0,\n",
       "                                                                       class_weight='balanced',\n",
       "                                                                       dual=False,\n",
       "                                                                       fit_intercept=True,\n",
       "                                                                       intercept_scaling=1,\n",
       "                                                                       l1_ratio=None,\n",
       "                                                                       max_iter=100,\n",
       "                                                                       multi_class='auto',\n",
       "                                                                       n_jobs=None,\n",
       "                                                                       penalty='l2',\n",
       "                                                                       random_state=42,\n",
       "                                                                       solver='lbfgs',\n",
       "                                                                       tol=0.0001,\n",
       "                                                                       verbose=0,\n",
       "                                                                       warm_start=False),\n",
       "                                    n_jobs=None, passthrough=False,\n",
       "                                    stack_method='auto', verbose=0))],\n",
       "         verbose=False)"
      ]
     },
     "execution_count": 35,
     "metadata": {},
     "output_type": "execute_result"
    }
   ],
   "source": [
    "estimator = [\n",
    "    ('rf', RandomForestClassifier(class_weight='balanced', random_state=42)),\n",
    "    (\"GBM\" ,  GradientBoostingClassifier(random_state=42))\n",
    "    ]\n",
    "\n",
    "\n",
    "\n",
    "\n",
    "### Defining stacking classifier with final estimator as Logistic Regression and GBM and Random Forest as seeders\n",
    "model_stack=StackingClassifier(estimators=estimator, final_estimator= LogisticRegression(random_state=42,class_weight='balanced'))\n",
    "\n",
    "pipe_stack = make_pipeline(preprocessor,model_stack)\n",
    "pipe_stack.fit(all_data,labels)"
   ]
  },
  {
   "cell_type": "code",
   "execution_count": 38,
   "metadata": {},
   "outputs": [
    {
     "data": {
      "text/plain": [
       "2386"
      ]
     },
     "execution_count": 38,
     "metadata": {},
     "output_type": "execute_result"
    }
   ],
   "source": [
    "np.set_printoptions(suppress=True)\n",
    "data_test=pd.read_csv(\"exercise_01_test.csv\")\n",
    "data_test=data_clean(data_test)\n",
    "predictions=pipe_stack.predict(data_test)\n",
    "len(predictions[np.where(predictions==1)])\n",
    "#### Cleaning data using custom function"
   ]
  },
  {
   "cell_type": "code",
   "execution_count": null,
   "metadata": {},
   "outputs": [],
   "source": []
  }
 ],
 "metadata": {
  "kernelspec": {
   "display_name": "Python 3",
   "language": "python",
   "name": "python3"
  },
  "language_info": {
   "codemirror_mode": {
    "name": "ipython",
    "version": 3
   },
   "file_extension": ".py",
   "mimetype": "text/x-python",
   "name": "python",
   "nbconvert_exporter": "python",
   "pygments_lexer": "ipython3",
   "version": "3.7.7"
  }
 },
 "nbformat": 4,
 "nbformat_minor": 4
}
