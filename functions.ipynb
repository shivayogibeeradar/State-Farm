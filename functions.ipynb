{
 "cells": [
  {
   "cell_type": "code",
   "execution_count": 10,
   "metadata": {},
   "outputs": [],
   "source": [
    "import numpy as np\n",
    "from sklearn.metrics import precision_score, f1_score, recall_score, accuracy_score, average_precision_score ,auc,roc_auc_score,average_precision_score\n",
    "np.set_printoptions(precision=2)\n",
    "\n",
    "from sklearn.metrics import plot_confusion_matrix\n",
    "import matplotlib.pyplot as plt\n",
    "\n"
   ]
  },
  {
   "cell_type": "code",
   "execution_count": 1,
   "metadata": {},
   "outputs": [],
   "source": [
    "\n",
    "##Function to clean the data (remove $ and % signs from columns x41 and x45)\n",
    "def data_clean(data):\n",
    "    data[[\"x41\",\"x45\"]]=data[[\"x41\",\"x45\"]].replace({'\\$':''}, \n",
    "                                                                regex = True).replace({'%':''},\n",
    "                                                                              regex = True).astype(float)\n",
    "    data[\"x35\"].loc[data[\"x35\"]==\"wed\"]=\"wednesday\"\n",
    "    data[\"x35\"].loc[data[\"x35\"]==\"thur\"]=\"thurday\"\n",
    "    data[\"x35\"].loc[data[\"x35\"]==\"fri\"]=\"friday\"\n",
    "    return(data)                                                                                             \n",
    "                                                                                                 \n",
    "                                                                                                 \n",
    "                                                                                                 \n",
    "                                                                                                 \n",
    "                                                                                                 \n",
    "                                                                                          "
   ]
  },
  {
   "cell_type": "code",
   "execution_count": 2,
   "metadata": {},
   "outputs": [],
   "source": [
    "                        '''\n",
    "        Defining Model Scoring Metrics - although objective is AUC for this challenge \n",
    "        a good classifier will give a balanced scoring across AUC , F-1 SCORE , PRECISION AND RECALL \n",
    "        specially in a datased where there is imbalance  in the dataset for target variable\n",
    "        \n",
    "                        '''\n",
    "\n",
    "\n",
    "    \n",
    "def training_predict(trainer, X_train, Y_train, X_test, Y_test):\n",
    "    scores = {} # Initializing a Dictionary to store evaluation metrics\n",
    "    \n",
    "    trainer.fit(X_train, Y_train)  # Training\n",
    "    Y_pred = trainer.predict(X_test) # Predicts\n",
    "    \n",
    "    '''\n",
    "    Stores the result of trainer in its individual Key\n",
    "    '''\n",
    "    scores['auc'] = roc_auc_score(Y_test , trainer.predict_proba(X_test)[:,1])\n",
    "    scores[\"AP-SCORE\"]=average_precision_score(Y_test , trainer.predict_proba(X_test)[:,1])\n",
    "    \n",
    "    scores['Recall_test'] = recall_score(Y_test , Y_pred)\n",
    "    \n",
    "    scores['Precision_test'] = precision_score(Y_test , Y_pred)\n",
    "    \n",
    "    scores['F1_Score_test'] = f1_score(Y_test , Y_pred)\n",
    "    \n",
    "    \n",
    "    return scores"
   ]
  },
  {
   "cell_type": "code",
   "execution_count": 12,
   "metadata": {},
   "outputs": [],
   "source": [
    "## Custom Function to plot confusion Matrix\n",
    "\n",
    "\n",
    "def confusion_matrix_plot(model,testdata,testlabels):\n",
    "\n",
    "    titles_options = [(\"Confusion matrix, without normalization\", None),\n",
    "                      (\"Normalized confusion matrix\", 'true')]\n",
    "\n",
    "    \n",
    "    for title, normalize in titles_options:\n",
    "        \n",
    "        disp = plot_confusion_matrix(model,testdata,testlabels,\n",
    "                                     display_labels=testlabels.unique(),\n",
    "                                     cmap=plt.cm.Blues,\n",
    "                                     normalize=normalize)\n",
    "        disp.ax_.set_title(title)\n",
    "\n",
    "        print(title)\n",
    "\n",
    "    "
   ]
  }
 ],
 "metadata": {
  "kernelspec": {
   "display_name": "Python 3",
   "language": "python",
   "name": "python3"
  },
  "language_info": {
   "codemirror_mode": {
    "name": "ipython",
    "version": 3
   },
   "file_extension": ".py",
   "mimetype": "text/x-python",
   "name": "python",
   "nbconvert_exporter": "python",
   "pygments_lexer": "ipython3",
   "version": "3.7.7"
  }
 },
 "nbformat": 4,
 "nbformat_minor": 4
}
