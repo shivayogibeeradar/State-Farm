{
 "cells": [
  {
   "cell_type": "code",
   "execution_count": 2,
   "metadata": {},
   "outputs": [
    {
     "name": "stdout",
     "output_type": "stream",
     "text": [
      "Importing Jupyter notebook from functions.ipynb\n"
     ]
    },
    {
     "name": "stderr",
     "output_type": "stream",
     "text": [
      "Using TensorFlow backend.\n"
     ]
    }
   ],
   "source": [
    "### Python imports\n",
    "import nbimporter\n",
    "import warnings\n",
    "from tqdm import tqdm\n",
    "warnings.filterwarnings('ignore')\n",
    "import pandas as pd\n",
    "import numpy as np\n",
    "import pickle\n",
    "\n",
    "####Importing  Data cleaning,scoring and confusion matrix from functions.ipynb(user created)\n",
    "from functions import data_clean\n",
    "from functions import training_predict\n",
    "from functions import data_clean\n",
    "from functions import confusion_matrix_plot\n",
    "\n",
    "\n",
    "\n",
    "\n",
    "### Importing pipelines and preprocessors\n",
    "\n",
    "from imblearn.pipeline import Pipeline, make_pipeline\n",
    "from sklearn.impute import SimpleImputer\n",
    "from sklearn.preprocessing import OneHotEncoder,MinMaxScaler,StandardScaler,RobustScaler\n",
    "from sklearn.compose import ColumnTransformer\n",
    "\n",
    "\n",
    "###Importing model selection and validation metrics\n",
    "from sklearn.model_selection import train_test_split\n",
    "from sklearn.model_selection import cross_val_score\n",
    "from sklearn.metrics import precision_score, f1_score, recall_score, accuracy_score, average_precision_score ,auc,roc_auc_score\n",
    "from imblearn.over_sampling import SMOTE\n",
    "from sklearn.model_selection import RepeatedStratifiedKFold\n",
    "\n",
    "#### Importing models\n",
    "from sklearn.linear_model import LogisticRegression\n",
    "from sklearn.model_selection import train_test_split\n",
    "from sklearn.model_selection import cross_val_score\n",
    "from sklearn.tree import DecisionTreeClassifier\n",
    "from sklearn.ensemble import RandomForestClassifier\n",
    "from sklearn.ensemble import AdaBoostClassifier\n",
    "from sklearn.ensemble import GradientBoostingClassifier\n",
    "from xgboost import XGBClassifier\n",
    "from sklearn.ensemble import VotingClassifier , StackingClassifier\n",
    "\n",
    "\n",
    "### IMporting our sampling strategy\n",
    "from imblearn.over_sampling import BorderlineSMOTE\n",
    "\n",
    "### Importing Hyperopt and its helpers\n",
    "from hyperopt import hp, tpe\n",
    "from hyperopt.fmin import fmin\n",
    "\n"
   ]
  },
  {
   "cell_type": "code",
   "execution_count": 3,
   "metadata": {},
   "outputs": [],
   "source": [
    "#### Reading dataset\n",
    "data_train=pd.read_csv(\"exercise_01_train.csv\")\n",
    "#### Cleaning data using custom function\n",
    "data_train=data_clean(data_train)"
   ]
  },
  {
   "cell_type": "code",
   "execution_count": 4,
   "metadata": {},
   "outputs": [],
   "source": [
    "\n",
    "##target variable\n",
    "labels=data_train[\"y\"]\n",
    "#### Rest of features\n",
    "all_data=data_train.drop(columns=[\"y\"])\n",
    "\n",
    "##Numeric features\n",
    "numeric_features =  all_data.select_dtypes(include=[\"float\",\"int\"]).columns\n",
    "### Categorical features\n",
    "categorical_features=all_data.select_dtypes(exclude=[\"float\",\"int\"]).columns\n",
    "\n",
    "#### Selecting Median imputer as startegy for imputing missing values and Robust scaler as strategy for \n",
    "#### standardizing data.Since the missing values in EDA\n",
    "####Robust scaler was slightly better at model performance than standard scaler \n",
    "####because of its robustness to outliers\n",
    "\n",
    "\n",
    "numeric_transformer = Pipeline(steps=[\n",
    "    ('imputer', SimpleImputer(strategy='median')),\n",
    "    ('scaler', RobustScaler())])\n",
    "\n",
    "#### Selecting simple imputer as startegy for imputing missing values to \"missing\" category \n",
    "#### Onehot encoding  as next step in pipeline for categorical variables\n",
    "\n",
    "\n",
    "\n",
    "\n",
    "categorical_transformer = Pipeline(steps=[\n",
    "    ('imputer', SimpleImputer(strategy='constant', fill_value='missing')),\n",
    "    ('onehot', OneHotEncoder(handle_unknown='ignore'))])\n",
    "\n",
    "\n",
    "\n",
    "\n",
    "##### Applying preprocessing steps as column transformers\n",
    "preprocessor = ColumnTransformer(\n",
    "    transformers=[\n",
    "        ('num', numeric_transformer, numeric_features),\n",
    "        ('cat', categorical_transformer, categorical_features)],remainder=\"passthrough\")\n",
    "\n"
   ]
  },
  {
   "cell_type": "code",
   "execution_count": 17,
   "metadata": {},
   "outputs": [
    {
     "name": "stdout",
     "output_type": "stream",
     "text": [
      "Fitting 5 folds for each of 10 candidates, totalling 50 fits\n",
      "[CV] XGB__reg_lambda=0.5, XGB__n_estimators=200, XGB__min_child_weight=3, XGB__max_depth=3 \n"
     ]
    },
    {
     "name": "stderr",
     "output_type": "stream",
     "text": [
      "[Parallel(n_jobs=1)]: Using backend SequentialBackend with 1 concurrent workers.\n"
     ]
    },
    {
     "name": "stdout",
     "output_type": "stream",
     "text": [
      "[CV]  XGB__reg_lambda=0.5, XGB__n_estimators=200, XGB__min_child_weight=3, XGB__max_depth=3, total= 1.4min\n",
      "[CV] XGB__reg_lambda=0.5, XGB__n_estimators=200, XGB__min_child_weight=3, XGB__max_depth=3 \n"
     ]
    },
    {
     "name": "stderr",
     "output_type": "stream",
     "text": [
      "[Parallel(n_jobs=1)]: Done   1 out of   1 | elapsed:  1.4min remaining:    0.0s\n"
     ]
    },
    {
     "name": "stdout",
     "output_type": "stream",
     "text": [
      "[CV]  XGB__reg_lambda=0.5, XGB__n_estimators=200, XGB__min_child_weight=3, XGB__max_depth=3, total= 1.5min\n",
      "[CV] XGB__reg_lambda=0.5, XGB__n_estimators=200, XGB__min_child_weight=3, XGB__max_depth=3 \n",
      "[CV]  XGB__reg_lambda=0.5, XGB__n_estimators=200, XGB__min_child_weight=3, XGB__max_depth=3, total= 1.3min\n",
      "[CV] XGB__reg_lambda=0.5, XGB__n_estimators=200, XGB__min_child_weight=3, XGB__max_depth=3 \n",
      "[CV]  XGB__reg_lambda=0.5, XGB__n_estimators=200, XGB__min_child_weight=3, XGB__max_depth=3, total= 1.5min\n",
      "[CV] XGB__reg_lambda=0.5, XGB__n_estimators=200, XGB__min_child_weight=3, XGB__max_depth=3 \n",
      "[CV]  XGB__reg_lambda=0.5, XGB__n_estimators=200, XGB__min_child_weight=3, XGB__max_depth=3, total= 1.3min\n",
      "[CV] XGB__reg_lambda=1.5, XGB__n_estimators=200, XGB__min_child_weight=5, XGB__max_depth=3 \n",
      "[CV]  XGB__reg_lambda=1.5, XGB__n_estimators=200, XGB__min_child_weight=5, XGB__max_depth=3, total= 1.3min\n",
      "[CV] XGB__reg_lambda=1.5, XGB__n_estimators=200, XGB__min_child_weight=5, XGB__max_depth=3 \n",
      "[CV]  XGB__reg_lambda=1.5, XGB__n_estimators=200, XGB__min_child_weight=5, XGB__max_depth=3, total= 1.3min\n",
      "[CV] XGB__reg_lambda=1.5, XGB__n_estimators=200, XGB__min_child_weight=5, XGB__max_depth=3 \n",
      "[CV]  XGB__reg_lambda=1.5, XGB__n_estimators=200, XGB__min_child_weight=5, XGB__max_depth=3, total= 1.3min\n",
      "[CV] XGB__reg_lambda=1.5, XGB__n_estimators=200, XGB__min_child_weight=5, XGB__max_depth=3 \n",
      "[CV]  XGB__reg_lambda=1.5, XGB__n_estimators=200, XGB__min_child_weight=5, XGB__max_depth=3, total= 1.3min\n",
      "[CV] XGB__reg_lambda=1.5, XGB__n_estimators=200, XGB__min_child_weight=5, XGB__max_depth=3 \n",
      "[CV]  XGB__reg_lambda=1.5, XGB__n_estimators=200, XGB__min_child_weight=5, XGB__max_depth=3, total= 1.3min\n",
      "[CV] XGB__reg_lambda=1.5, XGB__n_estimators=300, XGB__min_child_weight=4, XGB__max_depth=4 \n",
      "[CV]  XGB__reg_lambda=1.5, XGB__n_estimators=300, XGB__min_child_weight=4, XGB__max_depth=4, total= 1.9min\n",
      "[CV] XGB__reg_lambda=1.5, XGB__n_estimators=300, XGB__min_child_weight=4, XGB__max_depth=4 \n",
      "[CV]  XGB__reg_lambda=1.5, XGB__n_estimators=300, XGB__min_child_weight=4, XGB__max_depth=4, total= 1.9min\n",
      "[CV] XGB__reg_lambda=1.5, XGB__n_estimators=300, XGB__min_child_weight=4, XGB__max_depth=4 \n",
      "[CV]  XGB__reg_lambda=1.5, XGB__n_estimators=300, XGB__min_child_weight=4, XGB__max_depth=4, total= 1.9min\n",
      "[CV] XGB__reg_lambda=1.5, XGB__n_estimators=300, XGB__min_child_weight=4, XGB__max_depth=4 \n",
      "[CV]  XGB__reg_lambda=1.5, XGB__n_estimators=300, XGB__min_child_weight=4, XGB__max_depth=4, total= 1.9min\n",
      "[CV] XGB__reg_lambda=1.5, XGB__n_estimators=300, XGB__min_child_weight=4, XGB__max_depth=4 \n",
      "[CV]  XGB__reg_lambda=1.5, XGB__n_estimators=300, XGB__min_child_weight=4, XGB__max_depth=4, total= 1.9min\n",
      "[CV] XGB__reg_lambda=0.75, XGB__n_estimators=200, XGB__min_child_weight=3, XGB__max_depth=3 \n",
      "[CV]  XGB__reg_lambda=0.75, XGB__n_estimators=200, XGB__min_child_weight=3, XGB__max_depth=3, total=37.6min\n",
      "[CV] XGB__reg_lambda=0.75, XGB__n_estimators=200, XGB__min_child_weight=3, XGB__max_depth=3 \n",
      "[CV]  XGB__reg_lambda=0.75, XGB__n_estimators=200, XGB__min_child_weight=3, XGB__max_depth=3, total=16.6min\n",
      "[CV] XGB__reg_lambda=0.75, XGB__n_estimators=200, XGB__min_child_weight=3, XGB__max_depth=3 \n",
      "[CV]  XGB__reg_lambda=0.75, XGB__n_estimators=200, XGB__min_child_weight=3, XGB__max_depth=3, total= 1.4min\n",
      "[CV] XGB__reg_lambda=0.75, XGB__n_estimators=200, XGB__min_child_weight=3, XGB__max_depth=3 \n",
      "[CV]  XGB__reg_lambda=0.75, XGB__n_estimators=200, XGB__min_child_weight=3, XGB__max_depth=3, total= 1.8min\n",
      "[CV] XGB__reg_lambda=0.75, XGB__n_estimators=200, XGB__min_child_weight=3, XGB__max_depth=3 \n",
      "[CV]  XGB__reg_lambda=0.75, XGB__n_estimators=200, XGB__min_child_weight=3, XGB__max_depth=3, total= 1.7min\n",
      "[CV] XGB__reg_lambda=0.75, XGB__n_estimators=300, XGB__min_child_weight=2, XGB__max_depth=3 \n",
      "[CV]  XGB__reg_lambda=0.75, XGB__n_estimators=300, XGB__min_child_weight=2, XGB__max_depth=3, total= 1.9min\n",
      "[CV] XGB__reg_lambda=0.75, XGB__n_estimators=300, XGB__min_child_weight=2, XGB__max_depth=3 \n",
      "[CV]  XGB__reg_lambda=0.75, XGB__n_estimators=300, XGB__min_child_weight=2, XGB__max_depth=3, total= 2.0min\n",
      "[CV] XGB__reg_lambda=0.75, XGB__n_estimators=300, XGB__min_child_weight=2, XGB__max_depth=3 \n",
      "[CV]  XGB__reg_lambda=0.75, XGB__n_estimators=300, XGB__min_child_weight=2, XGB__max_depth=3, total= 2.3min\n",
      "[CV] XGB__reg_lambda=0.75, XGB__n_estimators=300, XGB__min_child_weight=2, XGB__max_depth=3 \n",
      "[CV]  XGB__reg_lambda=0.75, XGB__n_estimators=300, XGB__min_child_weight=2, XGB__max_depth=3, total= 2.0min\n",
      "[CV] XGB__reg_lambda=0.75, XGB__n_estimators=300, XGB__min_child_weight=2, XGB__max_depth=3 \n",
      "[CV]  XGB__reg_lambda=0.75, XGB__n_estimators=300, XGB__min_child_weight=2, XGB__max_depth=3, total= 2.1min\n",
      "[CV] XGB__reg_lambda=0.5, XGB__n_estimators=200, XGB__min_child_weight=4, XGB__max_depth=2 \n",
      "[CV]  XGB__reg_lambda=0.5, XGB__n_estimators=200, XGB__min_child_weight=4, XGB__max_depth=2, total= 1.4min\n",
      "[CV] XGB__reg_lambda=0.5, XGB__n_estimators=200, XGB__min_child_weight=4, XGB__max_depth=2 \n",
      "[CV]  XGB__reg_lambda=0.5, XGB__n_estimators=200, XGB__min_child_weight=4, XGB__max_depth=2, total= 1.5min\n",
      "[CV] XGB__reg_lambda=0.5, XGB__n_estimators=200, XGB__min_child_weight=4, XGB__max_depth=2 \n",
      "[CV]  XGB__reg_lambda=0.5, XGB__n_estimators=200, XGB__min_child_weight=4, XGB__max_depth=2, total= 1.6min\n",
      "[CV] XGB__reg_lambda=0.5, XGB__n_estimators=200, XGB__min_child_weight=4, XGB__max_depth=2 \n",
      "[CV]  XGB__reg_lambda=0.5, XGB__n_estimators=200, XGB__min_child_weight=4, XGB__max_depth=2, total= 1.5min\n",
      "[CV] XGB__reg_lambda=0.5, XGB__n_estimators=200, XGB__min_child_weight=4, XGB__max_depth=2 \n",
      "[CV]  XGB__reg_lambda=0.5, XGB__n_estimators=200, XGB__min_child_weight=4, XGB__max_depth=2, total= 1.2min\n",
      "[CV] XGB__reg_lambda=1.5, XGB__n_estimators=200, XGB__min_child_weight=1, XGB__max_depth=1 \n",
      "[CV]  XGB__reg_lambda=1.5, XGB__n_estimators=200, XGB__min_child_weight=1, XGB__max_depth=1, total= 1.0min\n",
      "[CV] XGB__reg_lambda=1.5, XGB__n_estimators=200, XGB__min_child_weight=1, XGB__max_depth=1 \n",
      "[CV]  XGB__reg_lambda=1.5, XGB__n_estimators=200, XGB__min_child_weight=1, XGB__max_depth=1, total=  58.4s\n",
      "[CV] XGB__reg_lambda=1.5, XGB__n_estimators=200, XGB__min_child_weight=1, XGB__max_depth=1 \n",
      "[CV]  XGB__reg_lambda=1.5, XGB__n_estimators=200, XGB__min_child_weight=1, XGB__max_depth=1, total= 1.0min\n",
      "[CV] XGB__reg_lambda=1.5, XGB__n_estimators=200, XGB__min_child_weight=1, XGB__max_depth=1 \n",
      "[CV]  XGB__reg_lambda=1.5, XGB__n_estimators=200, XGB__min_child_weight=1, XGB__max_depth=1, total=  57.4s\n",
      "[CV] XGB__reg_lambda=1.5, XGB__n_estimators=200, XGB__min_child_weight=1, XGB__max_depth=1 \n",
      "[CV]  XGB__reg_lambda=1.5, XGB__n_estimators=200, XGB__min_child_weight=1, XGB__max_depth=1, total=  55.9s\n",
      "[CV] XGB__reg_lambda=1, XGB__n_estimators=300, XGB__min_child_weight=4, XGB__max_depth=3 \n",
      "[CV]  XGB__reg_lambda=1, XGB__n_estimators=300, XGB__min_child_weight=4, XGB__max_depth=3, total= 1.6min\n",
      "[CV] XGB__reg_lambda=1, XGB__n_estimators=300, XGB__min_child_weight=4, XGB__max_depth=3 \n",
      "[CV]  XGB__reg_lambda=1, XGB__n_estimators=300, XGB__min_child_weight=4, XGB__max_depth=3, total= 1.7min\n",
      "[CV] XGB__reg_lambda=1, XGB__n_estimators=300, XGB__min_child_weight=4, XGB__max_depth=3 \n",
      "[CV]  XGB__reg_lambda=1, XGB__n_estimators=300, XGB__min_child_weight=4, XGB__max_depth=3, total= 2.2min\n",
      "[CV] XGB__reg_lambda=1, XGB__n_estimators=300, XGB__min_child_weight=4, XGB__max_depth=3 \n",
      "[CV]  XGB__reg_lambda=1, XGB__n_estimators=300, XGB__min_child_weight=4, XGB__max_depth=3, total= 1.7min\n",
      "[CV] XGB__reg_lambda=1, XGB__n_estimators=300, XGB__min_child_weight=4, XGB__max_depth=3 \n",
      "[CV]  XGB__reg_lambda=1, XGB__n_estimators=300, XGB__min_child_weight=4, XGB__max_depth=3, total= 2.0min\n",
      "[CV] XGB__reg_lambda=1, XGB__n_estimators=200, XGB__min_child_weight=2, XGB__max_depth=4 \n",
      "[CV]  XGB__reg_lambda=1, XGB__n_estimators=200, XGB__min_child_weight=2, XGB__max_depth=4, total= 1.7min\n",
      "[CV] XGB__reg_lambda=1, XGB__n_estimators=200, XGB__min_child_weight=2, XGB__max_depth=4 \n",
      "[CV]  XGB__reg_lambda=1, XGB__n_estimators=200, XGB__min_child_weight=2, XGB__max_depth=4, total= 1.8min\n",
      "[CV] XGB__reg_lambda=1, XGB__n_estimators=200, XGB__min_child_weight=2, XGB__max_depth=4 \n",
      "[CV]  XGB__reg_lambda=1, XGB__n_estimators=200, XGB__min_child_weight=2, XGB__max_depth=4, total= 1.6min\n",
      "[CV] XGB__reg_lambda=1, XGB__n_estimators=200, XGB__min_child_weight=2, XGB__max_depth=4 \n"
     ]
    },
    {
     "name": "stdout",
     "output_type": "stream",
     "text": [
      "[CV]  XGB__reg_lambda=1, XGB__n_estimators=200, XGB__min_child_weight=2, XGB__max_depth=4, total= 1.7min\n",
      "[CV] XGB__reg_lambda=1, XGB__n_estimators=200, XGB__min_child_weight=2, XGB__max_depth=4 \n",
      "[CV]  XGB__reg_lambda=1, XGB__n_estimators=200, XGB__min_child_weight=2, XGB__max_depth=4, total= 1.6min\n",
      "[CV] XGB__reg_lambda=1, XGB__n_estimators=100, XGB__min_child_weight=1, XGB__max_depth=4 \n",
      "[CV]  XGB__reg_lambda=1, XGB__n_estimators=100, XGB__min_child_weight=1, XGB__max_depth=4, total= 1.2min\n",
      "[CV] XGB__reg_lambda=1, XGB__n_estimators=100, XGB__min_child_weight=1, XGB__max_depth=4 \n",
      "[CV]  XGB__reg_lambda=1, XGB__n_estimators=100, XGB__min_child_weight=1, XGB__max_depth=4, total= 1.2min\n",
      "[CV] XGB__reg_lambda=1, XGB__n_estimators=100, XGB__min_child_weight=1, XGB__max_depth=4 \n",
      "[CV]  XGB__reg_lambda=1, XGB__n_estimators=100, XGB__min_child_weight=1, XGB__max_depth=4, total= 1.1min\n",
      "[CV] XGB__reg_lambda=1, XGB__n_estimators=100, XGB__min_child_weight=1, XGB__max_depth=4 \n",
      "[CV]  XGB__reg_lambda=1, XGB__n_estimators=100, XGB__min_child_weight=1, XGB__max_depth=4, total= 1.3min\n",
      "[CV] XGB__reg_lambda=1, XGB__n_estimators=100, XGB__min_child_weight=1, XGB__max_depth=4 \n",
      "[CV]  XGB__reg_lambda=1, XGB__n_estimators=100, XGB__min_child_weight=1, XGB__max_depth=4, total= 1.2min\n"
     ]
    },
    {
     "name": "stderr",
     "output_type": "stream",
     "text": [
      "[Parallel(n_jobs=1)]: Done  50 out of  50 | elapsed: 127.6min finished\n"
     ]
    },
    {
     "name": "stdout",
     "output_type": "stream",
     "text": [
      "Best: 0.986064 using {'XGB__reg_lambda': 1.5, 'XGB__n_estimators': 300, 'XGB__min_child_weight': 4, 'XGB__max_depth': 4}\n",
      "7839.487818956375\n"
     ]
    }
   ],
   "source": [
    "#### Tuning for xgboost was done at smote ratio of 0.32 and on few obvious chosen hyperparameters of xgboost such as\n",
    "### n_estimators,max depth, min_child_weight and regularization lambda.The xgboost model in its base form had a \n",
    "### great performance and by model tuning I was able to only get a marginal imporovement in auc performance\n",
    "### from 0.9838 to 0.9845.This final model was pickled and result2 predictions were taken from this model.\n",
    "\n",
    "\n",
    "\n",
    "\n",
    "\n",
    "\n",
    "start_time=time.time()\n",
    "\n",
    "#### Create X and Y training data here.....\n",
    "\n",
    "sm = BorderlineSMOTE(0.32,kind='borderline-1',random_state=42)\n",
    "# grid search\n",
    "XGB = XGBClassifier()\n",
    "cv=RepeatedStratifiedKFold(n_splits=5, n_repeats=1, random_state=1)\n",
    "\n",
    "pipe=Pipeline([('preprocessor', preprocessor),(\"SMOTE\",sm), ('XGB', XGB)])\n",
    "\n",
    "\n",
    "param_grid = {'XGB__n_estimators':[100,200,300],\n",
    "    'XGB__max_depth': range(5),\n",
    "              'XGB__min_child_weight':[1,2,3,4,5], \n",
    "              'XGB__reg_lambda': [0.50,0.75,1,1.25,1.5]}\n",
    "\n",
    "\n",
    "grid_search = RandomizedSearchCV(pipe, param_grid, scoring=\"roc_auc\", cv=cv,verbose=2)\n",
    "grid_result = grid_search.fit(X_train,y_train)\n",
    "\n",
    "# summarize results\n",
    "print(\"Best: %f using %s\" % (grid_result.best_score_, grid_result.best_params_))\n",
    "means = grid_result.cv_results_[ 'mean_test_score' ]\n",
    "stds = grid_result.cv_results_[ 'std_test_score' ]\n",
    "params = grid_result.cv_results_[ 'params' ]\n",
    "\n",
    "print(time.time()-start_time)"
   ]
  },
  {
   "cell_type": "code",
   "execution_count": 63,
   "metadata": {},
   "outputs": [
    {
     "data": {
      "text/plain": [
       "0.9860640332893993"
      ]
     },
     "execution_count": 63,
     "metadata": {},
     "output_type": "execute_result"
    }
   ],
   "source": [
    "###result of best model on training cross validation(AUC)\n",
    "grid_result.best_score_"
   ]
  },
  {
   "cell_type": "code",
   "execution_count": 6,
   "metadata": {},
   "outputs": [],
   "source": [
    "\n",
    "# pickle.dump(grid_result.best_estimator_,open(\"best_model.sav\",\"wb\"))\n",
    "# pickle.dump(grid_result.best_estimator_,open(\"best_model.pkl\",\"wb\"))\n",
    "xgboost_best1=pickle.load(open(\"best_model.pkl\", 'rb'))"
   ]
  },
  {
   "cell_type": "code",
   "execution_count": 27,
   "metadata": {},
   "outputs": [
    {
     "name": "stdout",
     "output_type": "stream",
     "text": [
      "test results for final xgboost model :\n",
      "{'auc': 0.9845318331918554, 'AP-SCORE': 0.9752471976664003, 'Recall_test': 0.906152889993785, 'Precision_test': 0.9745989304812834, 'F1_Score_test': 0.9391304347826086}\n",
      "Confusion matrix, without normalization\n",
      "Normalized confusion matrix\n"
     ]
    },
    {
     "data": {
      "image/png": "[encoded data removed]",
      "text/plain": [
       "<Figure size 432x288 with 2 Axes>"
      ]
     },
     "metadata": {
      "needs_background": "light"
     },
     "output_type": "display_data"
    },
    {
     "data": {
      "image/png": "[encoded data removed]",
      "text/plain": [
       "<Figure size 432x288 with 2 Axes>"
      ]
     },
     "metadata": {
      "needs_background": "light"
     },
     "output_type": "display_data"
    }
   ],
   "source": [
    "### Test results for final xgb model\n",
    "model_xgb1=xgboost_best1\n",
    "model_xgb1.fit(X_train,y_train)\n",
    "# print(\"test results for final xgboost model :\")\n",
    "# print(training_predict(model_xgb1,X_train,y_train,X_test,y_test))\n",
    "# confusion_matrix_plot(model_xgb1,X_test,y_test)  "
   ]
  },
  {
   "cell_type": "code",
   "execution_count": 7,
   "metadata": {},
   "outputs": [
    {
     "data": {
      "text/plain": [
       "Pipeline(memory=None,\n",
       "         steps=[('preprocessor',\n",
       "                 ColumnTransformer(n_jobs=None, remainder='passthrough',\n",
       "                                   sparse_threshold=0.3,\n",
       "                                   transformer_weights=None,\n",
       "                                   transformers=[('num',\n",
       "                                                  Pipeline(memory=None,\n",
       "                                                           steps=[('imputer',\n",
       "                                                                   SimpleImputer(add_indicator=False,\n",
       "                                                                                 copy=True,\n",
       "                                                                                 fill_value=None,\n",
       "                                                                                 missing_values=nan,\n",
       "                                                                                 strategy='median',\n",
       "                                                                                 verbose=0)),\n",
       "                                                                  ('scaler',\n",
       "                                                                   StandardScaler(copy=True,\n",
       "                                                                                  wi...\n",
       "                               interaction_constraints=None,\n",
       "                               learning_rate=0.300000012, max_delta_step=0,\n",
       "                               max_depth=4, min_child_weight=4, missing=nan,\n",
       "                               monotone_constraints=None, n_estimators=300,\n",
       "                               n_jobs=0, num_parallel_tree=1,\n",
       "                               objective='binary:logistic', random_state=0,\n",
       "                               reg_alpha=0, reg_lambda=1.5, scale_pos_weight=1,\n",
       "                               subsample=1, tree_method=None,\n",
       "                               validate_parameters=False, verbosity=None))],\n",
       "         verbose=False)"
      ]
     },
     "execution_count": 7,
     "metadata": {},
     "output_type": "execute_result"
    }
   ],
   "source": [
    "model_xgb1=xgboost_best1\n",
    "model_xgb1.fit(all_data,labels)"
   ]
  },
  {
   "cell_type": "code",
   "execution_count": 9,
   "metadata": {},
   "outputs": [],
   "source": [
    "#printing out predictions fro test dataset\n",
    "# removes scientific notations from no nparray\n",
    "np.set_printoptions(suppress=True)\n",
    "\n",
    "data_test=pd.read_csv(\"exercise_01_test.csv\")\n",
    "#### Cleaning data using custom function\n",
    "data_test=data_clean(data_test)\n",
    "model_xgb1.predict_proba(data_test)[:,1]\n",
    "np.savetxt(\"result2.csv\",model_xgb1.predict_proba(data_test)[:,1])"
   ]
  },
  {
   "cell_type": "code",
   "execution_count": 10,
   "metadata": {},
   "outputs": [],
   "source": [
    "prediction=model_xgb1.predict(data_test)"
   ]
  },
  {
   "cell_type": "code",
   "execution_count": 13,
   "metadata": {},
   "outputs": [
    {
     "data": {
      "text/plain": [
       "1898"
      ]
     },
     "execution_count": 13,
     "metadata": {},
     "output_type": "execute_result"
    }
   ],
   "source": [
    "len(prediction[np.where(prediction==1)])"
   ]
  },
  {
   "cell_type": "code",
   "execution_count": null,
   "metadata": {},
   "outputs": [],
   "source": []
  }
 ],
 "metadata": {
  "kernelspec": {
   "display_name": "Python 3",
   "language": "python",
   "name": "python3"
  },
  "language_info": {
   "codemirror_mode": {
    "name": "ipython",
    "version": 3
   },
   "file_extension": ".py",
   "mimetype": "text/x-python",
   "name": "python",
   "nbconvert_exporter": "python",
   "pygments_lexer": "ipython3",
   "version": "3.7.7"
  }
 },
 "nbformat": 4,
 "nbformat_minor": 4
}
